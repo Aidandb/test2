{
  "nbformat": 4,
  "nbformat_minor": 0,
  "metadata": {
    "colab": {
      "provenance": [],
      "authorship_tag": "ABX9TyPGg2w3qPhK4rr6kP97GS9Y",
      "include_colab_link": true
    },
    "kernelspec": {
      "name": "python3",
      "display_name": "Python 3"
    },
    "language_info": {
      "name": "python"
    }
  },
  "cells": [
    {
      "cell_type": "markdown",
      "metadata": {
        "id": "view-in-github",
        "colab_type": "text"
      },
      "source": [
        "<a href=\"https://colab.research.google.com/github/Aidandb/test2/blob/main/Soduko_solver.ipynb\" target=\"_parent\"><img src=\"https://colab.research.google.com/assets/colab-badge.svg\" alt=\"Open In Colab\"/></a>"
      ]
    },
    {
      "cell_type": "code",
      "execution_count": 2,
      "metadata": {
        "colab": {
          "base_uri": "https://localhost:8080/"
        },
        "id": "VUazk6AUG883",
        "outputId": "292e5e05-20f4-41db-c9aa-62b421f7a9d0"
      },
      "outputs": [
        {
          "output_type": "stream",
          "name": "stdout",
          "text": [
            "Solution:\n",
            "9 4 7 5 8 2 1 6 3 \n",
            "8 6 5 3 1 7 2 4 9 \n",
            "3 2 1 9 4 6 7 8 5 \n",
            "5 9 6 7 3 1 8 2 4 \n",
            "7 3 2 4 5 8 9 1 6 \n",
            "4 1 8 6 2 9 3 5 7 \n",
            "1 5 3 2 7 4 6 9 8 \n",
            "2 7 9 8 6 5 4 3 1 \n",
            "6 8 4 1 9 3 5 7 2 \n"
          ]
        }
      ],
      "source": [
        "def solve_sudoku(board):\n",
        "    \"\"\"\n",
        "    Solves a Sudoku puzzle using backtracking algorithm\n",
        "    \"\"\"\n",
        "    row, col = find_empty_cell(board)\n",
        "    if row == -1:\n",
        "        return True\n",
        "    \n",
        "    for num in range(1, 10):\n",
        "        if is_valid_move(board, row, col, num):\n",
        "            board[row][col] = num\n",
        "            \n",
        "            if solve_sudoku(board):\n",
        "                return True\n",
        "            \n",
        "            board[row][col] = 0\n",
        "    \n",
        "    return False\n",
        "\n",
        "def find_empty_cell(board):\n",
        "    \"\"\"\n",
        "    Finds an empty cell in the Sudoku board\n",
        "    \"\"\"\n",
        "    for i in range(9):\n",
        "        for j in range(9):\n",
        "            if board[i][j] == 0:\n",
        "                return i, j\n",
        "    return -1, -1\n",
        "\n",
        "def is_valid_move(board, row, col, num):\n",
        "    \"\"\"\n",
        "    Checks if a number can be placed in a specific cell of the board\n",
        "    \"\"\"\n",
        "    # Check row\n",
        "    for i in range(9):\n",
        "        if board[row][i] == num:\n",
        "            return False\n",
        "    \n",
        "    # Check column\n",
        "    for i in range(9):\n",
        "        if board[i][col] == num:\n",
        "            return False\n",
        "    \n",
        "    # Check 3x3 subgrid\n",
        "    subgrid_row = (row // 3) * 3\n",
        "    subgrid_col = (col // 3) * 3\n",
        "    for i in range(3):\n",
        "        for j in range(3):\n",
        "            if board[subgrid_row + i][subgrid_col + j] == num:\n",
        "                return False\n",
        "    \n",
        "    return True\n",
        "\n",
        "# Example puzzle\n",
        "board = [\n",
        "    [0, 0, 0, 0, 0, 2, 1, 0, 0],\n",
        "    [0, 6, 5, 3, 0, 0, 0, 0, 0],\n",
        "    [3, 0, 1, 0, 4, 0, 7, 0, 0],\n",
        "    [5, 0, 0, 7, 0, 1, 0, 2, 0],\n",
        "    [7, 0, 2, 4, 0, 8, 0, 1, 0],\n",
        "    [0, 0, 0, 6, 2, 0, 3, 0, 7],\n",
        "    [0, 5, 0, 2, 0, 4, 0, 0, 0],\n",
        "    [2, 7, 9, 0, 0, 0, 4, 0, 0],\n",
        "    [0, 8, 4, 0, 9, 3, 5, 7, 0]\n",
        "]\n",
        "\n",
        "if solve_sudoku(board):\n",
        "    print(\"Solution:\")\n",
        "    for i in range(9):\n",
        "        for j in range(9):\n",
        "            print(board[i][j], end=\" \")\n",
        "        print()\n",
        "else:\n",
        "    print(\"No solution exists.\")"
      ]
    }
  ]
}